{
  "nbformat": 4,
  "nbformat_minor": 0,
  "metadata": {
    "colab": {
      "name": "activation_function.ipynb",
      "provenance": [],
      "authorship_tag": "ABX9TyPddIYEKxJ2B5EQGGAa8lzh"
    },
    "kernelspec": {
      "name": "python3",
      "display_name": "Python 3"
    }
  },
  "cells": [
    {
      "cell_type": "markdown",
      "metadata": {
        "id": "yuDGPKh4DvX6",
        "colab_type": "text"
      },
      "source": [
        "# **Activation Functions**\n",
        "An activation functions is a function used in an artificial neuron.\n",
        "There are many type of activation functions. Some of them and their graphs are mentioned below"
      ]
    },
    {
      "cell_type": "code",
      "metadata": {
        "id": "dLR3M8mKEweZ",
        "colab_type": "code",
        "colab": {}
      },
      "source": [
        "# this is a function for plotting the functions in a graph \n",
        "import numpy as np\n",
        "import matplotlib.pyplot as plt\n",
        "\n",
        "def plot_fun(fun, start_x, end_x, quadrants = 4):\n",
        "  x = np.linspace(start_x, end_x, 1000)\n",
        "  y = np.array([fun(i) for i in x])\n",
        "  fig = plt.figure()\n",
        "  ax = fig.add_subplot(1, 1, 1)\n",
        "  if quadrants == 4:\n",
        "    ax.spines['left'].set_position('center')\n",
        "    ax.spines['bottom'].set_position('center')\n",
        "    ax.xaxis.set_ticks_position('bottom')\n",
        "    ax.yaxis.set_ticks_position('left')\n",
        "  elif quadrants == 2:\n",
        "    ax.spines['left'].set_position('center')\n",
        "    ax.spines['bottom'].set_position(('axes',0))\n",
        "    ax.xaxis.set_ticks_position('bottom')\n",
        "    ax.yaxis.set_ticks_position('left')\n",
        "  elif quadrants == 1:\n",
        "    ax.spines['left'].set_position('left')\n",
        "    ax.spines['bottom'].set_position('bottom')\n",
        "    ax.xaxis.set_ticks_position('bottom')\n",
        "    ax.yaxis.set_ticks_position('left')\n",
        "  ax.spines['right'].set_color('none')\n",
        "  ax.spines['top'].set_color('none')\n",
        "\n",
        "\n",
        "  plt.plot(x, y, 'r')\n",
        "  plt.show()"
      ],
      "execution_count": 0,
      "outputs": []
    },
    {
      "cell_type": "markdown",
      "metadata": {
        "id": "EYSJW6DeEF24",
        "colab_type": "text"
      },
      "source": [
        "### **Step Function**"
      ]
    },
    {
      "cell_type": "code",
      "metadata": {
        "id": "MxUhORAvDpox",
        "colab_type": "code",
        "colab": {
          "base_uri": "https://localhost:8080/",
          "height": 248
        },
        "outputId": "87488d7c-75c4-4727-f415-52d272c2d292"
      },
      "source": [
        "def step(value):\n",
        "  if value < 0:\n",
        "    return 0\n",
        "  else:\n",
        "    return 1\n",
        "\n",
        "# plotting the step function\n",
        "plot_fun(step, -10, 10)"
      ],
      "execution_count": 22,
      "outputs": [
        {
          "output_type": "display_data",
          "data": {
            "image/png": "[encoded data removed]",
            "text/plain": [
              "<Figure size 432x288 with 1 Axes>"
            ]
          },
          "metadata": {
            "tags": []
          }
        }
      ]
    },
    {
      "cell_type": "markdown",
      "metadata": {
        "id": "hxYnY0WxGua6",
        "colab_type": "text"
      },
      "source": [
        "### **Sigmoid Function ( Logistic Function )**"
      ]
    },
    {
      "cell_type": "code",
      "metadata": {
        "id": "4f6K6NtkGz10",
        "colab_type": "code",
        "colab": {
          "base_uri": "https://localhost:8080/",
          "height": 265
        },
        "outputId": "616f6042-ae48-49b3-8fbc-4b9264bd72f4"
      },
      "source": [
        "def sigmoid(value):\n",
        "  return 1/(1+np.exp(-value))\n",
        "\n",
        "plot_fun(sigmoid, -10, 10, 2)"
      ],
      "execution_count": 29,
      "outputs": [
        {
          "output_type": "display_data",
          "data": {
            "image/png": "[encoded data removed]",
            "text/plain": [
              "<Figure size 432x288 with 1 Axes>"
            ]
          },
          "metadata": {
            "tags": []
          }
        }
      ]
    },
    {
      "cell_type": "markdown",
      "metadata": {
        "id": "QRwz8eJJJeOx",
        "colab_type": "text"
      },
      "source": [
        "### **tanh Function**"
      ]
    },
    {
      "cell_type": "code",
      "metadata": {
        "id": "SnR5YR5cJiXd",
        "colab_type": "code",
        "colab": {
          "base_uri": "https://localhost:8080/",
          "height": 248
        },
        "outputId": "c060fc3b-a693-4fc9-ba64-65c7b425c86d"
      },
      "source": [
        "# its the same tanh you are familiar with in trigonometry\n",
        "\n",
        "import math\n",
        "plot_fun(math.tanh, -5, 5)"
      ],
      "execution_count": 31,
      "outputs": [
        {
          "output_type": "display_data",
          "data": {
            "image/png": "[encoded data removed]",
            "text/plain": [
              "<Figure size 432x288 with 1 Axes>"
            ]
          },
          "metadata": {
            "tags": []
          }
        }
      ]
    },
    {
      "cell_type": "markdown",
      "metadata": {
        "id": "hLMkhRNOJwoN",
        "colab_type": "text"
      },
      "source": [
        "### **ReLU Function**\n",
        "**Rectified Linear Unit Function** <br/>\n",
        "The popular among all of these"
      ]
    },
    {
      "cell_type": "code",
      "metadata": {
        "id": "cO3G-UC5J4av",
        "colab_type": "code",
        "colab": {
          "base_uri": "https://localhost:8080/",
          "height": 265
        },
        "outputId": "a6ea0640-4560-4e4e-81cb-0cc3939a524e"
      },
      "source": [
        "def relu(value):\n",
        "  # its actually a max(0, value) function\n",
        "  if value > 0:\n",
        "    return value\n",
        "  else:\n",
        "    return 0\n",
        "\n",
        "plot_fun(relu, -5, 5, 2)"
      ],
      "execution_count": 32,
      "outputs": [
        {
          "output_type": "display_data",
          "data": {
            "image/png": "[encoded data removed]",
            "text/plain": [
              "<Figure size 432x288 with 1 Axes>"
            ]
          },
          "metadata": {
            "tags": []
          }
        }
      ]
    },
    {
      "cell_type": "markdown",
      "metadata": {
        "id": "LMMKJFyhMOJQ",
        "colab_type": "text"
      },
      "source": [
        "### **Leaky ReLU Function**\n",
        "A modified version of ReLU <br/>\n",
        "Also the popular one<br/>\n",
        "Instead of restricting all negative values to zero in the output,<br/>\n",
        "it gives a constant slope ( < 1 ) in the output.<br/>\n",
        "The slope is a parameter usually referred to as &alpha; .<br/>\n",
        "It can be set by the programmer himself while designing the model.\n",
        "If the &alpha; = 0.3 then the function will be  <br/>\n",
        "```f(x) = max(0.3 * x, x)```"
      ]
    },
    {
      "cell_type": "code",
      "metadata": {
        "id": "gWg0NS8pNDNN",
        "colab_type": "code",
        "colab": {
          "base_uri": "https://localhost:8080/",
          "height": 265
        },
        "outputId": "dc8ff47f-1dc8-4ab7-e0ed-b6da95be07ff"
      },
      "source": [
        "def leaky_relu(value):\n",
        "  alpha = 0.1\n",
        "  min = alpha * value\n",
        "  if min > value:\n",
        "    return min\n",
        "  return value\n",
        "\n",
        "plot_fun(leaky_relu, -10, 10, 2)"
      ],
      "execution_count": 35,
      "outputs": [
        {
          "output_type": "display_data",
          "data": {
            "image/png": "[encoded data removed]",
            "text/plain": [
              "<Figure size 432x288 with 1 Axes>"
            ]
          },
          "metadata": {
            "tags": []
          }
        }
      ]
    }
  ]
}
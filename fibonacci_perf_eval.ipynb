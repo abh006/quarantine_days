{
  "nbformat": 4,
  "nbformat_minor": 0,
  "metadata": {
    "colab": {
      "name": "fibonacci_perf_eval.ipynb",
      "provenance": [],
      "authorship_tag": "ABX9TyOfvtPkq04CL3mZ4HGjR5E3"
    },
    "kernelspec": {
      "name": "python3",
      "display_name": "Python 3"
    }
  },
  "cells": [
    {
      "cell_type": "markdown",
      "metadata": {
        "id": "KCxcm1rE3v2S",
        "colab_type": "text"
      },
      "source": [
        "# **Fibonacci Function using Dynamic Programming - Perfomance Evaluation**\n",
        "\n",
        "Happened to watch the dynamic programming lecture from MIT OCW in YouTube, last day.\n",
        "In that the professor explained 3 different approaches of calculating fibonacci number.\n",
        "\n",
        "\n",
        "1.   The traditional recursive way\n",
        "2.   Dynamic programming approach using recursion\n",
        "3.   Dynamic programming approach using loop\n",
        "\n",
        "Lets look in to those ways and their complexities.\n",
        "\n"
      ]
    },
    {
      "cell_type": "markdown",
      "metadata": {
        "id": "DAzZFG6s7OVQ",
        "colab_type": "text"
      },
      "source": [
        "I implemented the functions in CPP.\n",
        "\n",
        "The following are the implementation of all the 3 approaches.\n",
        "\n",
        "### **1. Traditional Recursive Approach**\n",
        "\n",
        "  In this approach, we set the fibonacci number corresponding to 1 ad 2 as 1 itself, using the ```if``` statement and for all the other numbers, we simply use the logic, ```fibonacci(n) = fibonacci(n-1) + fibonacci(n-2)```\n",
        "  ```\n",
        "  int fib(int n){\n",
        "      int f;\n",
        "      if( n==1 || n==2 ){\n",
        "        f = 1;\n",
        "      }else{\n",
        "        f = fib(n-1) + fib(n-2);\n",
        "      }\n",
        "      return f;\n",
        "  }\n",
        "  ```\n",
        "### **2. Dynamic Programming Approach using Recursion**\n",
        "\n",
        "  In this approach, we use a HashMap which stores the fibonacci value of a number after calculating it. So whenever we need to get that value again, we just need to get the stored value. It saves us lots of repeated computations.\n",
        "  ```\n",
        "  int fib(int n){\n",
        "      int f;\n",
        "      if( n==1 || n==2 ){\n",
        "        f = 1;\n",
        "      }else{\n",
        "        f = mem[n-1] + mem[n-2];\n",
        "      }\n",
        "      mem[n] = f;\n",
        "      return f;\n",
        "  }\n",
        "```\n",
        "\n",
        "### **3. Dynamic Programming Approach using Loop**\n",
        "  \n",
        "  In this approach, we calculate all the fibonacci numbers from 1 to n, (the number we need) and store it. So whenever we need the ```fibonacci(n)``` we just need to fetch the stored values of ```fibonacci(n-1)``` and ```fibonacci(n-2)``` and return their sum.\n",
        "  ```\n",
        "  int fib(int n){\n",
        "      mem[1] = 1;\n",
        "      mem[2] = 1;\n",
        "      for(int i=3; i<=n; i++){\n",
        "        mem[i] = mem[i-1] + mem[i-2];\n",
        "      }\n",
        "      return mem[n];\n",
        "  }\n",
        "  ```"
      ]
    },
    {
      "cell_type": "markdown",
      "metadata": {
        "id": "u-qOFZI55TJK",
        "colab_type": "text"
      },
      "source": [
        "### **Importing all the necessary modules**\n",
        "Matplotlib is a popular python library for plotting graphs. In this example we will be comparing the efficiency and time complexity of all those 3 approaches using graphs. We are handling JSON data (JavaScript Object Notation) created using the output of the functions. For handling that, we use the json module in python."
      ]
    },
    {
      "cell_type": "code",
      "metadata": {
        "id": "ZV_CIjeiz8U1",
        "colab_type": "code",
        "colab": {}
      },
      "source": [
        "from google.colab import drive\n",
        "import matplotlib.pyplot as plt\n",
        "import matplotlib.patches as mpatches\n",
        "import json"
      ],
      "execution_count": 0,
      "outputs": []
    },
    {
      "cell_type": "code",
      "metadata": {
        "id": "9z-rJXB50GFe",
        "colab_type": "code",
        "colab": {
          "base_uri": "https://localhost:8080/",
          "height": 54
        },
        "outputId": "426b4644-54b4-49e3-e147-581cfefe7715"
      },
      "source": [
        "drive.mount('/content/gdrive')"
      ],
      "execution_count": 12,
      "outputs": [
        {
          "output_type": "stream",
          "text": [
            "Drive already mounted at /content/gdrive; to attempt to forcibly remount, call drive.mount(\"/content/gdrive\", force_remount=True).\n"
          ],
          "name": "stdout"
        }
      ]
    },
    {
      "cell_type": "markdown",
      "metadata": {
        "id": "Q7rNvP2Y6KQ3",
        "colab_type": "text"
      },
      "source": [
        "### **Loading the JSON data from my Google Drive**\n",
        "I have stored all the JSON files in my Google Drive folder. For accessing that, first we need to mount the Drive folder here, which we did in the previous line. Now we need to open the JSON file and fetch the data."
      ]
    },
    {
      "cell_type": "code",
      "metadata": {
        "id": "N47bP0c80Vyi",
        "colab_type": "code",
        "colab": {}
      },
      "source": [
        "data_approach1 = data_approach2 = data_approach3 = None\n",
        "with open('/content/gdrive/My Drive/Colab Notebooks/fibonacci_perf_eval/output1.json', 'r') as f:\n",
        "  data_approach1 = json.load(f)\n",
        "with open('/content/gdrive/My Drive/Colab Notebooks/fibonacci_perf_eval/output2.json', 'r') as f:\n",
        "  data_approach2 = json.load(f)\n",
        "with open('/content/gdrive/My Drive/Colab Notebooks/fibonacci_perf_eval/output3.json', 'r') as f:\n",
        "  data_approach3 = json.load(f)"
      ],
      "execution_count": 0,
      "outputs": []
    },
    {
      "cell_type": "markdown",
      "metadata": {
        "id": "91Pz3dcB6icJ",
        "colab_type": "text"
      },
      "source": [
        "### **Preprocessing the data to be shown in graph**\n",
        "In the graph we are going to plot, we need data for both X-axis and Y-axis. In the X- axis we represent the numbers (1,2,3,4,...) and in Y-axis we represent the time taken to calculate their corresponding fibonacci value.\n",
        "\n",
        "Here ```numbers``` is a dictionary which contains the numbers from all those 3 different approaches. It will be of the form: \n",
        "\n",
        "```\n",
        "numbers = {\n",
        "  'approach1' : [1,2,3,....],\n",
        "  'approach2' : [1,2,3,....],\n",
        "  'approach3' : [1,2,3,....]\n",
        "}\n",
        "```\n",
        "Instead of using the same set of numbers, we have used different set of numbers for each data we have, because in each approaches the function starts misbehaving in a different number. We will see that when the graph is plotted.\n",
        "\n",
        "Similarly the ```time_taken``` is also a dictionary, and it contains the time taken to calculate the fibonacci value, from all those 3 different approaches. It will be of the form:\n",
        "```\n",
        "time_taken = {\n",
        "  'approach1' : [....],\n",
        "  'approach2' : [....],\n",
        "  'approach3' : [....]\n",
        "}\n",
        "```"
      ]
    },
    {
      "cell_type": "code",
      "metadata": {
        "id": "rtc7NOEG1G27",
        "colab_type": "code",
        "colab": {}
      },
      "source": [
        "numbers = {}\n",
        "time_taken = {}\n",
        "numbers['approach1'] = [ row['num'] for row in data_approach1['data'] ]\n",
        "time_taken['approach1'] = [ row['time'] for row in data_approach1['data'] ]\n",
        "\n",
        "numbers['approach2'] = [ row['num'] for row in data_approach2['data'] ]\n",
        "time_taken['approach2'] = [ row['time'] for row in data_approach2['data'] ]\n",
        "\n",
        "numbers['approach3'] = [ row['num'] for row in data_approach3['data'] ]\n",
        "time_taken['approach3'] = [ row['time'] for row in data_approach3['data'] ]"
      ],
      "execution_count": 0,
      "outputs": []
    },
    {
      "cell_type": "markdown",
      "metadata": {
        "id": "vy9JekWWL_-l",
        "colab_type": "text"
      },
      "source": [
        "### **Plot the Graph**"
      ]
    },
    {
      "cell_type": "code",
      "metadata": {
        "id": "thB2cKUG10Eo",
        "colab_type": "code",
        "colab": {
          "base_uri": "https://localhost:8080/",
          "height": 276
        },
        "outputId": "089212f5-8e03-4bed-f889-10b93d9bf3de"
      },
      "source": [
        "plt.plot(\n",
        "         numbers['approach1'],\n",
        "         time_taken['approach1'],\n",
        "         'r--',\n",
        "         numbers['approach2'],\n",
        "         time_taken['approach2'],\n",
        "         'b',\n",
        "         numbers['approach3'],\n",
        "         time_taken['approach3'],\n",
        "         'g',\n",
        "         label='Performance Evaluation'\n",
        "         )\n",
        "red_patch = mpatches.Patch(color='red', label='Traditional')\n",
        "blue_patch = mpatches.Patch(color='blue', label='Dynamic Programming-Recursive')\n",
        "green_patch = mpatches.Patch(color='green', label='Dynamic Programming-Loop')\n",
        "plt.legend(handles=[red_patch, blue_patch, green_patch])\n",
        "plt.show()"
      ],
      "execution_count": 21,
      "outputs": [
        {
          "output_type": "display_data",
          "data": {
            "image/png": "[encoded data removed]",
            "text/plain": [
              "<Figure size 432x288 with 1 Axes>"
            ]
          },
          "metadata": {
            "tags": [],
            "needs_background": "light"
          }
        }
      ]
    },
    {
      "cell_type": "markdown",
      "metadata": {
        "id": "ThXrkg4qOaUH",
        "colab_type": "text"
      },
      "source": [
        "### **Primary Evaluation**\n",
        "In the graph above, blue represents the dynamic programming approach using recursion and it takes exponential time on smaller values itself.\n",
        "\n",
        "So lets avoid that approach, and find the winner among the other two.\n",
        "From the above plot, both approaches give similar results, but lets run another check, with a higher set of numbers."
      ]
    },
    {
      "cell_type": "markdown",
      "metadata": {
        "id": "D5HvLp5LVHL3",
        "colab_type": "text"
      },
      "source": [
        "### **Obtaining Bigger Input Sets**\n",
        "In the last testing, we called the function for numbers from 1 to 32. Now we use a slightly bigger input set, which is from 1 to 50."
      ]
    },
    {
      "cell_type": "code",
      "metadata": {
        "id": "93ANHN9j1_gw",
        "colab_type": "code",
        "colab": {}
      },
      "source": [
        "data1 = data3 = None\n",
        "with open('/content/gdrive/My Drive/Colab Notebooks/fibonacci_perf_eval/output1_big.json', 'r') as f:\n",
        "  data1 = json.load(f)\n",
        "with open('/content/gdrive/My Drive/Colab Notebooks/fibonacci_perf_eval/output3_big.json', 'r') as f:\n",
        "  data3 = json.load(f)"
      ],
      "execution_count": 0,
      "outputs": []
    },
    {
      "cell_type": "code",
      "metadata": {
        "id": "bckkIG_7XlNe",
        "colab_type": "code",
        "colab": {}
      },
      "source": [
        "numbers = {}\n",
        "time_taken = {}\n",
        "numbers['approach1'] = [ row['num'] for row in data1['data'] ]\n",
        "time_taken['approach1'] = [ row['time'] for row in data1['data'] ]\n",
        "\n",
        "numbers['approach3'] = [ row['num'] for row in data3['data'] ]\n",
        "time_taken['approach3'] = [ row['time'] for row in data3['data'] ]"
      ],
      "execution_count": 0,
      "outputs": []
    },
    {
      "cell_type": "code",
      "metadata": {
        "id": "hIae3uYtXuh7",
        "colab_type": "code",
        "colab": {
          "base_uri": "https://localhost:8080/",
          "height": 276
        },
        "outputId": "1f7505b7-605a-4b04-d6e7-2a98578cfb10"
      },
      "source": [
        "plt.plot(\n",
        "         numbers['approach1'],\n",
        "         time_taken['approach1'],\n",
        "         'r',\n",
        "         numbers['approach3'],\n",
        "         time_taken['approach3'],\n",
        "         'g',\n",
        "         label='Performance Evaluation'\n",
        "         )\n",
        "red_patch = mpatches.Patch(color='red', label='Traditional')\n",
        "green_patch = mpatches.Patch(color='green', label='Dynamic Programming-Loop')\n",
        "plt.legend(handles=[red_patch, green_patch])\n",
        "plt.show()"
      ],
      "execution_count": 24,
      "outputs": [
        {
          "output_type": "display_data",
          "data": {
            "image/png": "[encoded data removed]",
            "text/plain": [
              "<Figure size 432x288 with 1 Axes>"
            ]
          },
          "metadata": {
            "tags": [],
            "needs_background": "light"
          }
        }
      ]
    },
    {
      "cell_type": "markdown",
      "metadata": {
        "id": "OM9SPeDcX6YR",
        "colab_type": "text"
      },
      "source": [
        "### **Final Evaluation**\n",
        "It is clear from the plot, that when it comes to bigger numbers, the traditional recursive approach takes too much time to compute whereas the dynamic programming-loop approach takes an almost constant time."
      ]
    },
    {
      "cell_type": "markdown",
      "metadata": {
        "id": "63C22tPqYSDy",
        "colab_type": "text"
      },
      "source": [
        "### **Further Evaluation**\n",
        "Now lets see what happens to the winner, when it comes to bigger inputs."
      ]
    },
    {
      "cell_type": "code",
      "metadata": {
        "id": "Wi7uSUROZcKm",
        "colab_type": "code",
        "colab": {}
      },
      "source": [
        "data = None\n",
        "with open('/content/gdrive/My Drive/Colab Notebooks/fibonacci_perf_eval/output3_bigger.json', 'r') as f:\n",
        "  data = json.load(f)"
      ],
      "execution_count": 0,
      "outputs": []
    },
    {
      "cell_type": "code",
      "metadata": {
        "id": "1FT-9QIzZhW3",
        "colab_type": "code",
        "colab": {}
      },
      "source": [
        "numbers = [ row['num'] for row in data['data'] ]\n",
        "time_taken = [ row['time'] for row in data['data'] ]"
      ],
      "execution_count": 0,
      "outputs": []
    },
    {
      "cell_type": "code",
      "metadata": {
        "id": "wX0hYXDuZswb",
        "colab_type": "code",
        "colab": {
          "base_uri": "https://localhost:8080/",
          "height": 276
        },
        "outputId": "1482082a-4877-4a68-d0ad-02cb5abcb01a"
      },
      "source": [
        "plt.plot(\n",
        "         numbers,\n",
        "         time_taken,\n",
        "         'r',\n",
        "         label='Performance Evaluation'\n",
        "         )\n",
        "plt.show()"
      ],
      "execution_count": 27,
      "outputs": [
        {
          "output_type": "display_data",
          "data": {
            "image/png": "[encoded data removed]",
            "text/plain": [
              "<Figure size 432x288 with 1 Axes>"
            ]
          },
          "metadata": {
            "tags": [],
            "needs_background": "light"
          }
        }
      ]
    },
    {
      "cell_type": "markdown",
      "metadata": {
        "id": "a7Sw3zApZ95-",
        "colab_type": "text"
      },
      "source": [
        "For bigger inputs also, this approach takes an almost linear time. This function has a time complexity of O(n) where n is the input number"
      ]
    },
    {
      "cell_type": "code",
      "metadata": {
        "id": "Lflck5kGaNcm",
        "colab_type": "code",
        "colab": {}
      },
      "source": [
        ""
      ],
      "execution_count": 0,
      "outputs": []
    }
  ]
}